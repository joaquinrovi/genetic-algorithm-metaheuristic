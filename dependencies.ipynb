{
 "cells": [
  {
   "cell_type": "code",
   "execution_count": 13,
   "metadata": {},
   "outputs": [
    {
     "data": {
      "text/html": [
       "<div>\n",
       "<style scoped>\n",
       "    .dataframe tbody tr th:only-of-type {\n",
       "        vertical-align: middle;\n",
       "    }\n",
       "\n",
       "    .dataframe tbody tr th {\n",
       "        vertical-align: top;\n",
       "    }\n",
       "\n",
       "    .dataframe thead th {\n",
       "        text-align: right;\n",
       "    }\n",
       "</style>\n",
       "<table border=\"1\" class=\"dataframe\">\n",
       "  <thead>\n",
       "    <tr style=\"text-align: right;\">\n",
       "      <th></th>\n",
       "      <th>Proyecto</th>\n",
       "      <th>Dependencias</th>\n",
       "    </tr>\n",
       "  </thead>\n",
       "  <tbody>\n",
       "    <tr>\n",
       "      <th>0</th>\n",
       "      <td>Proyecto A ETAPA 1</td>\n",
       "      <td>None</td>\n",
       "    </tr>\n",
       "    <tr>\n",
       "      <th>1</th>\n",
       "      <td>Proyecto A ETAPA 2</td>\n",
       "      <td>Proyecto A ETAPA 1</td>\n",
       "    </tr>\n",
       "    <tr>\n",
       "      <th>2</th>\n",
       "      <td>Proyecto B ETAPA 1</td>\n",
       "      <td>Proyecto A ETAPA 2</td>\n",
       "    </tr>\n",
       "    <tr>\n",
       "      <th>3</th>\n",
       "      <td>Proyecto B ETAPA 2</td>\n",
       "      <td>Proyecto B ETAPA 1, Proyecto C</td>\n",
       "    </tr>\n",
       "    <tr>\n",
       "      <th>4</th>\n",
       "      <td>Proyecto C</td>\n",
       "      <td>None</td>\n",
       "    </tr>\n",
       "  </tbody>\n",
       "</table>\n",
       "</div>"
      ],
      "text/plain": [
       "             Proyecto                    Dependencias\n",
       "0  Proyecto A ETAPA 1                            None\n",
       "1  Proyecto A ETAPA 2              Proyecto A ETAPA 1\n",
       "2  Proyecto B ETAPA 1              Proyecto A ETAPA 2\n",
       "3  Proyecto B ETAPA 2  Proyecto B ETAPA 1, Proyecto C\n",
       "4          Proyecto C                            None"
      ]
     },
     "execution_count": 13,
     "metadata": {},
     "output_type": "execute_result"
    }
   ],
   "source": [
    "import pandas as pd\n",
    "\n",
    "data = {\n",
    "    'Proyecto': ['Proyecto A ETAPA 1', 'Proyecto A ETAPA 2', 'Proyecto B ETAPA 1', 'Proyecto B ETAPA 2', 'Proyecto C'],  # Suponiendo 10 proyectos\n",
    "    'Dependencias': [None, 'Proyecto A ETAPA 1', 'Proyecto A ETAPA 2', 'Proyecto B ETAPA 1, Proyecto C', None]\n",
    "}\n",
    "df = pd.DataFrame(data)\n",
    "\n",
    "df.head(10)"
   ]
  },
  {
   "cell_type": "code",
   "execution_count": 14,
   "metadata": {},
   "outputs": [
    {
     "data": {
      "text/plain": [
       "'\\nThe check_all_projects_executable(solution) function is a hypothetical function that iterates through the solution represented by the binary array or vector (typically 0 for not selecting a project and 1 for selecting it) and checks whether each project in the solution can be executed without violating any dependencies. \\n'"
      ]
     },
     "execution_count": 14,
     "metadata": {},
     "output_type": "execute_result"
    }
   ],
   "source": [
    "'''\n",
    "The check_all_projects_executable method is solely responsible for checking whether all projects in a given solution can be executed without violating any dependencies. It doesn't directly incorporate the execute_project method or any other method related to executing projects. Its purpose is to provide a check within the genetic algorithm to ensure that only feasible solutions are considered during optimization.\n",
    "\n",
    "The execute_project method, on the other hand, is used for actually executing a list of projects, verifying their dependencies before execution. While both methods deal with projects and their dependencies, they serve different purposes within your application:\n",
    "\n",
    "    check_all_projects_executable is used within the fitness function of the genetic algorithm to evaluate the feasibility of solutions based on project dependencies.\n",
    "    execute_project is used in your application's logic for executing projects after the optimization process, ensuring that all dependencies are met before execution.\n",
    "\n",
    "So, check_all_projects_executable doesn't need to incorporate execute_project or vice versa. They serve different roles in your application's workflow.\n",
    "'''\n",
    "\n",
    "'''\n",
    "The check_all_projects_executable(solution) function is a hypothetical function that iterates through the solution represented by the binary array or vector (typically 0 for not selecting a project and 1 for selecting it) and checks whether each project in the solution can be executed without violating any dependencies. \n",
    "'''"
   ]
  },
  {
   "cell_type": "code",
   "execution_count": 17,
   "metadata": {},
   "outputs": [
    {
     "name": "stdout",
     "output_type": "stream",
     "text": [
      "Puede ejecutarse el Proyecto A ETAPA 2\n"
     ]
    }
   ],
   "source": [
    "def verificar_dependencias_ejecutadas(proyecto_con_dependencia, proyectos_sin_dependencia, df):\n",
    "    \"\"\"\n",
    "    Verifica si todas las dependencias de un proyecto se han cumplido antes de ejecutarlo.\n",
    "\n",
    "    :param proyecto_con_dependencia: El nombre del proyecto que se va a ejecutar.\n",
    "    :type proyecto_con_dependencia: str\n",
    "    :param proyectos_sin_dependencia: La lista de proyectos que no tienen dependencias.\n",
    "    :type proyectos_sin_dependencia: list\n",
    "    :param df: El DataFrame que contiene la información de los proyectos y sus dependencias.\n",
    "    :type df: pandas.DataFrame\n",
    "    :return: True si todas las dependencias se han cumplido, False de lo contrario.\n",
    "    :rtype: bool\n",
    "    \"\"\"\n",
    "    dependencias_proyecto = df[df['Proyecto'] == proyecto_con_dependencia]['Dependencias'].values[0]\n",
    "    if dependencias_proyecto is not None:\n",
    "        dependencias_proyecto = dependencias_proyecto.split(', ')\n",
    "        for dependencia in dependencias_proyecto:\n",
    "            if dependencia not in proyectos_sin_dependencia:\n",
    "                return False\n",
    "    return True\n",
    "\n",
    "def ejecutar_proyecto(proyectos_con_dependencia, proyectos_sin_dependencia, df):\n",
    "    \"\"\"\n",
    "    Ejecuta una lista de proyectos con dependencia, verificando primero si todas sus dependencias se han cumplido.\n",
    "\n",
    "    :param proyectos_con_dependencia: La lista de proyectos que tienen dependencias.\n",
    "    :type proyectos_con_dependencia: list\n",
    "    :param proyectos_sin_dependencia: La lista de proyectos que no tienen dependencias.\n",
    "    :type proyectos_sin_dependencia: list\n",
    "    :param df: El DataFrame que contiene la información de los proyectos y sus dependencias.\n",
    "    :type df: pandas.DataFrame\n",
    "    \"\"\"\n",
    "    for proyecto_con_dependencia in proyectos_con_dependencia:\n",
    "        if verificar_dependencias_ejecutadas(proyecto_con_dependencia, proyectos_sin_dependencia, df):\n",
    "            print(f\"Puede ejecutarse el {proyecto_con_dependencia}\")\n",
    "        else:\n",
    "            print(f\"No se puede ejecutar el {proyecto_con_dependencia} porque las dependencias no se han cumplido\")\n",
    "\n",
    "proyectos_sin_dependencia = ['Proyecto A ETAPA 1', 'Proyecto C']\n",
    "proyectos_con_dependencia = ['Proyecto A ETAPA 2']\n",
    "ejecutar_proyecto(proyectos_con_dependencia, proyectos_sin_dependencia, df)"
   ]
  },
  {
   "cell_type": "markdown",
   "metadata": {},
   "source": [
    "## English"
   ]
  },
  {
   "cell_type": "code",
   "execution_count": 16,
   "metadata": {},
   "outputs": [],
   "source": [
    "def check_executed_dependencies(project_with_dependency, projects_without_dependency, df):\n",
    "    \"\"\"\n",
    "    Checks if all dependencies of a project have been fulfilled before executing it.\n",
    "\n",
    "    :param project_with_dependency: The name of the project to be executed.\n",
    "    :type project_with_dependency: str\n",
    "    :param projects_without_dependency: The list of projects that have no dependencies.\n",
    "    :type projects_without_dependency: list\n",
    "    :param df: The DataFrame containing information about projects and their dependencies.\n",
    "    :type df: pandas.DataFrame\n",
    "    :return: True if all dependencies have been fulfilled, False otherwise.\n",
    "    :rtype: bool\n",
    "    \"\"\"\n",
    "    project_dependencies = df[df['Proyecto'] == project_with_dependency]['Dependencias'].values[0]\n",
    "    if project_dependencies is not None:\n",
    "        project_dependencies = project_dependencies.split(', ')\n",
    "        for dependency in project_dependencies:\n",
    "            if dependency not in projects_without_dependency:\n",
    "                return False\n",
    "    return True\n",
    "\n",
    "def execute_project(projects_with_dependency, projects_without_dependency, df):\n",
    "    \"\"\"\n",
    "    Executes a list of projects with dependencies, first verifying if all their dependencies have been fulfilled.\n",
    "\n",
    "    :param projects_with_dependency: The list of projects that have dependencies.\n",
    "    :type projects_with_dependency: list\n",
    "    :param projects_without_dependency: The list of projects that have no dependencies.\n",
    "    :type projects_without_dependency: list\n",
    "    :param df: The DataFrame containing information about projects and their dependencies.\n",
    "    :type df: pandas.DataFrame\n",
    "    \"\"\"\n",
    "    for project_with_dependency in projects_with_dependency:\n",
    "        if check_executed_dependencies(project_with_dependency, projects_without_dependency, df):\n",
    "            print(f\"The {project_with_dependency} can be executed.\")\n",
    "        else:\n",
    "            print(f\"The {project_with_dependency} cannot be executed because its dependencies have not been fulfilled.\")"
   ]
  }
 ],
 "metadata": {
  "kernelspec": {
   "display_name": "base",
   "language": "python",
   "name": "python3"
  },
  "language_info": {
   "codemirror_mode": {
    "name": "ipython",
    "version": 3
   },
   "file_extension": ".py",
   "mimetype": "text/x-python",
   "name": "python",
   "nbconvert_exporter": "python",
   "pygments_lexer": "ipython3",
   "version": "3.9.12"
  }
 },
 "nbformat": 4,
 "nbformat_minor": 2
}
