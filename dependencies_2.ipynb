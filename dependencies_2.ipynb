{
 "cells": [
  {
   "cell_type": "code",
   "execution_count": null,
   "metadata": {},
   "outputs": [],
   "source": [
    "import pandas as pd\n",
    "\n",
    "data = {\n",
    "    'Proyecto': ['Proyecto A ETAPA 1', 'Proyecto A ETAPA 2', 'Proyecto B ETAPA 1', 'Proyecto B ETAPA 2', 'Proyecto C'],\n",
    "    'Dependencias': ['None', 'Proyecto A ETAPA 1', 'Proyecto A ETAPA 2', 'Proyecto B ETAPA 1, Proyecto C', 'None']\n",
    "}\n",
    "\n",
    "df = pd.DataFrame(data)\n",
    "\n",
    "def seleccionar_proyectos(df):\n",
    "    proyectos_disponibles = []\n",
    "    proyectos_seleccionados = set() \n",
    "    for index, row in df.iterrows():\n",
    "        proyecto = row['Proyecto']\n",
    "        dependencias = row['Dependencias']\n",
    "        if dependencias == 'None':\n",
    "            proyectos_disponibles.append(proyecto)\n",
    "        else:\n",
    "            dependencias = [dep.strip() for dep in dependencias.split(',')]\n",
    "            if all(dep in proyectos_seleccionados for dep in dependencias):\n",
    "                proyectos_disponibles.append(proyecto)\n",
    "        proyectos_seleccionados.add(proyecto)\n",
    "\n",
    "    return proyectos_disponibles\n",
    "\n",
    "proyectos_disponibles = seleccionar_proyectos(df)\n",
    "print(\"Proyectos disponibles para seleccionar:\", proyectos_disponibles)"
   ]
  },
  {
   "cell_type": "code",
   "execution_count": null,
   "metadata": {},
   "outputs": [],
   "source": [
    "import pandas as pd\n",
    "\n",
    "data = {\n",
    "    'Proyecto': ['Proyecto A ETAPA 1', 'Proyecto A ETAPA 2', 'Proyecto B ETAPA 1', 'Proyecto B ETAPA 2', 'Proyecto C'],\n",
    "    'Dependencias': ['', 'Proyecto A ETAPA 1', 'Proyecto A ETAPA 2', 'Proyecto B ETAPA 1, Proyecto C', ''],\n",
    "    'Excluyentes': ['Proyecto A ETAPA 2', '', '', '', 'Proyecto A ETAPA 1, Proyecto A ETAPA 2']\n",
    "}\n",
    "\n",
    "df = pd.DataFrame(data)\n",
    "df.head()\n"
   ]
  },
  {
   "cell_type": "code",
   "execution_count": null,
   "metadata": {},
   "outputs": [],
   "source": [
    "def seleccionar_proyectos(df):\n",
    "    proyectos_disponibles = []\n",
    "    proyectos_seleccionados = set()\n",
    "    proyectos_excluyentes = set()\n",
    "    for index, row in df.iterrows():\n",
    "        proyecto = row['Proyecto']\n",
    "        dependencias = row['Dependencias']\n",
    "        excluyentes = row['Excluyentes']\n",
    "        if dependencias == '' and not any(dep in proyectos_excluyentes for dep in [proyecto]):\n",
    "            proyectos_disponibles.append(proyecto)\n",
    "        else:\n",
    "            dependencias = [dep.strip() for dep in dependencias.split(',')]\n",
    "            if all(dep in proyectos_seleccionados for dep in dependencias) and not any(dep in proyectos_excluyentes for dep in [proyecto]):\n",
    "                proyectos_disponibles.append(proyecto)\n",
    "        proyectos_seleccionados.add(proyecto)\n",
    "        excluyentes = [ex.strip() for ex in excluyentes.split(',')]\n",
    "        proyectos_excluyentes.update(excluyentes)\n",
    "    return proyectos_disponibles\n",
    "\n",
    "proyectos_disponibles = seleccionar_proyectos(df)\n",
    "print(\"Proyectos disponibles para seleccionar:\", proyectos_disponibles)"
   ]
  },
  {
   "cell_type": "markdown",
   "metadata": {},
   "source": [
    "Este código de Python utiliza la biblioteca Pandas para manejar datos tabulares y realiza una selección de proyectos basada en ciertas condiciones de dependencia y exclusión.\n",
    "\n",
    "Aquí tienes una explicación paso a paso:\n",
    "\n",
    "1. Se importa la biblioteca Pandas y se le asigna el alias 'pd'.\n",
    "\n",
    "2. Se define un diccionario llamado 'data' que contiene tres claves: 'Proyecto', 'Dependencias' y 'Excluyentes'. Cada clave tiene como valor una lista que contiene información relacionada con los proyectos, sus dependencias y sus proyectos excluyentes.\n",
    "\n",
    "3. Se crea un DataFrame de Pandas llamado 'df' a partir del diccionario 'data'.\n",
    "\n",
    "4. Se define una función llamada 'seleccionar_proyectos' que toma como argumento un DataFrame de Pandas.\n",
    "\n",
    "5. Se inicializan dos conjuntos vacíos: 'proyectos_seleccionados' para almacenar los proyectos seleccionados y 'proyectos_excluyentes' para almacenar los proyectos excluyentes.\n",
    "\n",
    "6. Se itera sobre cada fila del DataFrame utilizando el método 'iterrows()', que devuelve un índice y una serie para cada fila.\n",
    "\n",
    "7. Se extraen los valores de las columnas 'Proyecto', 'Dependencias' y 'Excluyentes' de la fila actual.\n",
    "\n",
    "8. Se verifica si no hay dependencias para el proyecto actual y si este proyecto no está excluido por ninguno de los proyectos excluyentes ya seleccionados. Si ambas condiciones son verdaderas, se agrega el proyecto a la lista de 'proyectos_disponibles'.\n",
    "\n",
    "9. Si hay dependencias para el proyecto actual, se dividen las dependencias por comas y se eliminan los espacios en blanco de cada dependencia. Luego se verifica si todas las dependencias están en el conjunto de 'proyectos_seleccionados' y si el proyecto no está excluido por ninguno de los proyectos excluyentes. Si ambas condiciones son verdaderas, se agrega el proyecto a la lista de 'proyectos_disponibles'.\n",
    "\n",
    "10. Se agregan el proyecto actual al conjunto 'proyectos_seleccionados'.\n",
    "\n",
    "11. Se dividen los proyectos excluyentes por comas, se eliminan los espacios en blanco de cada uno y se agregan al conjunto 'proyectos_excluyentes'.\n",
    "\n",
    "12. Se devuelve la lista de 'proyectos_disponibles' al final de la función.\n",
    "\n",
    "13. Se llama a la función 'seleccionar_proyectos' pasando el DataFrame 'df' como argumento y se asigna el resultado a la variable 'proyectos_disponibles'.\n",
    "\n",
    "14. Se imprime la lista de proyectos disponibles para seleccionar."
   ]
  },
  {
   "cell_type": "code",
   "execution_count": null,
   "metadata": {},
   "outputs": [],
   "source": [
    "def select_projects(df):\n",
    "    \"\"\"\n",
    "    Selects projects based on their dependencies and exclusions.\n",
    "\n",
    "    This function takes a DataFrame containing project information as input and selects projects that can be executed considering their dependencies and exclusions.\n",
    "    \n",
    "    :param df: DataFrame containing project information including 'Proyecto' (Project), 'Dependencias' (Dependencies), and 'Excluyentes' (Exclusions).\n",
    "    :type df: pandas.DataFrame\n",
    "\n",
    "    :return: List of projects that are available for selection based on their dependencies and exclusions.\n",
    "    :rtype: list\n",
    "    \"\"\"\n",
    "    available_projects = []\n",
    "    selected_projects = set()\n",
    "    exclusive_projects = set()\n",
    "    for index, row in df.iterrows():\n",
    "        project = row['Proyecto']\n",
    "        dependencies = row['Dependencias']\n",
    "        exclusions = row['Excluyentes']\n",
    "        if dependencies == '' and not any(dep in exclusive_projects for dep in [project]):\n",
    "            available_projects.append(project)\n",
    "        else:\n",
    "            dependencies = [dep.strip() for dep in dependencies.split(',')]\n",
    "            if all(dep in selected_projects for dep in dependencies) and not any(dep in exclusive_projects for dep in [project]):\n",
    "                available_projects.append(project)\n",
    "        selected_projects.add(project)\n",
    "        exclusions = [ex.strip() for ex in exclusions.split(',')]\n",
    "        exclusive_projects.update(exclusions)\n",
    "    return available_projects\n"
   ]
  },
  {
   "cell_type": "markdown",
   "metadata": {},
   "source": [
    "No se quiere que las dependencias y las exclusiones se verifiquen de manera secuencial sino que se verifiquen juntas. Así, se ajusta la lógica para que ambos se verifiquen simultáneamente al determinar la disponibilidad de un proyecto."
   ]
  },
  {
   "cell_type": "code",
   "execution_count": null,
   "metadata": {},
   "outputs": [],
   "source": [
    "import pandas as pd\n",
    "\n",
    "data = {\n",
    "    'MATRICULA_DIGITAL': ['Proyecto A ETAPA 1', 'Proyecto A ETAPA 2', 'Proyecto B ETAPA 1', 'Proyecto B ETAPA 2', 'Proyecto C'],\n",
    "    'DEPENDENCIAS': ['', 'Proyecto A ETAPA 1', 'Proyecto A ETAPA 2', 'Proyecto B ETAPA 1, Proyecto C', ''],\n",
    "    'EXCLUYENTES': ['', '', '', '', 'Proyecto A ETAPA 1, Proyecto A ETAPA 2']\n",
    "}\n",
    "\n",
    "df_1 = pd.DataFrame(data)\n",
    "df_1.head()"
   ]
  },
  {
   "cell_type": "code",
   "execution_count": null,
   "metadata": {},
   "outputs": [],
   "source": [
    "def select_projects_1(df):\n",
    "    \"\"\"\n",
    "    Selects projects based on their dependencies and exclusions.\n",
    "\n",
    "    This function takes a DataFrame containing project information as input and selects projects that can be executed considering their dependencies and exclusions.\n",
    "    \n",
    "    :param df: DataFrame containing project information including 'Proyecto' (Project), 'Dependencias' (Dependencies), and 'Excluyentes' (Exclusions).\n",
    "    :type df: pandas.DataFrame\n",
    "\n",
    "    :return: List of projects that are available for selection based on their dependencies and exclusions.\n",
    "    :rtype: list\n",
    "    \"\"\"\n",
    "    available_projects = []\n",
    "    selected_projects = set()\n",
    "    exclusive_projects = set()\n",
    "    for index, row in df.iterrows():\n",
    "        project = row['MATRICULA_DIGITAL']\n",
    "        dependencies = [dep.strip() for dep in row['DEPENDENCIAS'].split(',')]\n",
    "        if dependencies == ['NA']:\n",
    "            dependencies = []\n",
    "        exclusions = [ex.strip() for ex in row['EXCLUYENTES'].split(',')]\n",
    "        if exclusions == ['NA']:\n",
    "            exclusions = []\n",
    "        \n",
    "        # Check if all dependencies are satisfied and the project is not excluded\n",
    "        if len(dependencies) + len(exclusions) > 0:\n",
    "            if all(dep in selected_projects for dep in dependencies) and not any(ex in exclusive_projects for ex in exclusions):\n",
    "                available_projects.append(project)\n",
    "        else:\n",
    "            available_projects.append(project)\n",
    "        \n",
    "        # Add the project to selected projects and update exclusions\n",
    "        selected_projects.add(project)\n",
    "        exclusive_projects.update(exclusions)\n",
    "    return available_projects\n",
    "\n",
    "available_projects = select_projects_1(df_1)\n",
    "print(\"Available projects to select:\", available_projects)"
   ]
  },
  {
   "cell_type": "markdown",
   "metadata": {},
   "source": [
    "En esta modificación, se ha combinado la verificación de dependencias y exclusiones en un solo condicional dentro del bucle. Ahora, se verifica si todas las dependencias están satisfechas y si el proyecto no está excluido simultáneamente. Si ambas condiciones se cumplen, el proyecto se agrega a la lista de proyectos disponibles. De lo contrario, se omite. Esto asegura que las dependencias y exclusiones se verifiquen juntas para cada proyecto.\n",
    "\n",
    "Es por eso que, por lo tanto, en el código las dependencias y exclusiones no están siendo barridas de forma ordenada. La verificación se realiza de manera simultánea para cada proyecto en el bucle.\n",
    "\n",
    "En el condicional dentro del bucle 'for', se comprueba si todas las dependencias están satisfechas y si el proyecto no está excluido. Si ambas condiciones se cumplen, el proyecto se agrega a la lista de proyectos disponibles. Esto significa que las dependencias y exclusiones se consideran juntas, en lugar de en una secuencia ordenada."
   ]
  },
  {
   "cell_type": "markdown",
   "metadata": {},
   "source": [
    "# DataFrame desordenado"
   ]
  },
  {
   "cell_type": "code",
   "execution_count": null,
   "metadata": {},
   "outputs": [],
   "source": [
    "# Example DataFrame\n",
    "import pandas as pd\n",
    "\n",
    "data = {\n",
    "    'MATRICULA_DIGITAL': ['Proyecto B ETAPA 2', 'Proyecto A ETAPA 2', 'Proyecto A ETAPA 1', 'Proyecto C', 'Proyecto B ETAPA 1'],\n",
    "    'DEPENDENCIAS': ['Proyecto B ETAPA 1, Proyecto C', 'Proyecto A ETAPA 1', '', '', 'Proyecto A ETAPA 2'],\n",
    "    'EXCLUYENTES': ['', '', '', 'Proyecto A ETAPA 1, Proyecto A ETAPA 2', ''],\n",
    "}\n",
    "\n",
    "df = pd.DataFrame(data)"
   ]
  },
  {
   "cell_type": "code",
   "execution_count": null,
   "metadata": {},
   "outputs": [],
   "source": [
    "df.head()"
   ]
  },
  {
   "cell_type": "code",
   "execution_count": null,
   "metadata": {},
   "outputs": [],
   "source": [
    "def select_projects(df):\n",
    "    available_projects = []\n",
    "    selected_projects = set()\n",
    "    exclusive_projects = set()\n",
    "    \n",
    "    # Create a dictionary to store dependencies and exclusions for each project\n",
    "    dependencies_dict = dict(zip(df['MATRICULA_DIGITAL'], df['DEPENDENCIAS'].str.split(', ')))\n",
    "    exclusions_dict = dict(zip(df['MATRICULA_DIGITAL'], df['EXCLUYENTES'].str.split(', ')))\n",
    "    \n",
    "    # Iterate through the projects in any order\n",
    "    for project in df['MATRICULA_DIGITAL']:\n",
    "        dependencies = dependencies_dict.get(project, [])\n",
    "        exclusions = exclusions_dict.get(project, [])\n",
    "        \n",
    "        # Check if all dependencies are satisfied and the project is not excluded\n",
    "        if all(dep in selected_projects for dep in dependencies) and not any(ex in exclusive_projects for ex in exclusions):\n",
    "            available_projects.append(project)\n",
    "        \n",
    "        # Add the project to selected projects and update exclusions\n",
    "        selected_projects.add(project)\n",
    "        exclusive_projects.update(exclusions)\n",
    "    \n",
    "    return available_projects"
   ]
  },
  {
   "cell_type": "code",
   "execution_count": null,
   "metadata": {},
   "outputs": [],
   "source": [
    "available_projects = select_projects(df)\n",
    "print(\"Available projects to select:\", available_projects)"
   ]
  },
  {
   "cell_type": "code",
   "execution_count": null,
   "metadata": {},
   "outputs": [],
   "source": [
    "a = select_projects(df_1)\n",
    "b = select_projects(df)\n",
    "print(a)\n",
    "print(b)"
   ]
  },
  {
   "cell_type": "code",
   "execution_count": null,
   "metadata": {},
   "outputs": [],
   "source": [
    "c = select_projects_1(df_1)\n",
    "d = select_projects_1(df)\n",
    "print(c)\n",
    "print(d)"
   ]
  },
  {
   "cell_type": "markdown",
   "metadata": {},
   "source": [
    "# Aleatorizado"
   ]
  },
  {
   "cell_type": "code",
   "execution_count": 17,
   "metadata": {},
   "outputs": [],
   "source": [
    "# Example DataFrame\n",
    "import pandas as pd\n",
    "import random\n",
    "\n",
    "\n",
    "data = {\n",
    "    'MATRICULA_DIGITAL': ['Proyecto B ETAPA 2', 'Proyecto A ETAPA 2', 'Proyecto A ETAPA 1', 'Proyecto C', 'Proyecto B ETAPA 1'],\n",
    "    'DEPENDENCIAS': ['Proyecto B ETAPA 1, Proyecto C', 'Proyecto A ETAPA 1', '', '', 'Proyecto A ETAPA 2'],\n",
    "    'EXCLUYENTES': ['', '', '', 'Proyecto A ETAPA 1, Proyecto A ETAPA 2', ''],\n",
    "}\n",
    "\n",
    "dataframe = pd.DataFrame(data)"
   ]
  },
  {
   "cell_type": "code",
   "execution_count": 18,
   "metadata": {},
   "outputs": [
    {
     "data": {
      "text/html": [
       "<div>\n",
       "<style scoped>\n",
       "    .dataframe tbody tr th:only-of-type {\n",
       "        vertical-align: middle;\n",
       "    }\n",
       "\n",
       "    .dataframe tbody tr th {\n",
       "        vertical-align: top;\n",
       "    }\n",
       "\n",
       "    .dataframe thead th {\n",
       "        text-align: right;\n",
       "    }\n",
       "</style>\n",
       "<table border=\"1\" class=\"dataframe\">\n",
       "  <thead>\n",
       "    <tr style=\"text-align: right;\">\n",
       "      <th></th>\n",
       "      <th>MATRICULA_DIGITAL</th>\n",
       "      <th>DEPENDENCIAS</th>\n",
       "      <th>EXCLUYENTES</th>\n",
       "    </tr>\n",
       "  </thead>\n",
       "  <tbody>\n",
       "    <tr>\n",
       "      <th>0</th>\n",
       "      <td>Proyecto B ETAPA 2</td>\n",
       "      <td>Proyecto B ETAPA 1, Proyecto C</td>\n",
       "      <td></td>\n",
       "    </tr>\n",
       "    <tr>\n",
       "      <th>1</th>\n",
       "      <td>Proyecto A ETAPA 2</td>\n",
       "      <td>Proyecto A ETAPA 1</td>\n",
       "      <td></td>\n",
       "    </tr>\n",
       "    <tr>\n",
       "      <th>2</th>\n",
       "      <td>Proyecto A ETAPA 1</td>\n",
       "      <td></td>\n",
       "      <td></td>\n",
       "    </tr>\n",
       "    <tr>\n",
       "      <th>3</th>\n",
       "      <td>Proyecto C</td>\n",
       "      <td></td>\n",
       "      <td>Proyecto A ETAPA 1, Proyecto A ETAPA 2</td>\n",
       "    </tr>\n",
       "    <tr>\n",
       "      <th>4</th>\n",
       "      <td>Proyecto B ETAPA 1</td>\n",
       "      <td>Proyecto A ETAPA 2</td>\n",
       "      <td></td>\n",
       "    </tr>\n",
       "  </tbody>\n",
       "</table>\n",
       "</div>"
      ],
      "text/plain": [
       "    MATRICULA_DIGITAL                    DEPENDENCIAS  \\\n",
       "0  Proyecto B ETAPA 2  Proyecto B ETAPA 1, Proyecto C   \n",
       "1  Proyecto A ETAPA 2              Proyecto A ETAPA 1   \n",
       "2  Proyecto A ETAPA 1                                   \n",
       "3          Proyecto C                                   \n",
       "4  Proyecto B ETAPA 1              Proyecto A ETAPA 2   \n",
       "\n",
       "                              EXCLUYENTES  \n",
       "0                                          \n",
       "1                                          \n",
       "2                                          \n",
       "3  Proyecto A ETAPA 1, Proyecto A ETAPA 2  \n",
       "4                                          "
      ]
     },
     "execution_count": 18,
     "metadata": {},
     "output_type": "execute_result"
    }
   ],
   "source": [
    "dataframe.head()"
   ]
  },
  {
   "cell_type": "code",
   "execution_count": null,
   "metadata": {},
   "outputs": [],
   "source": [
    "\n",
    "def select_projects_random(df):\n",
    "    available_projects = []\n",
    "    selected_projects = set()\n",
    "    exclusive_projects = set()\n",
    "    for index, row in df.iterrows():\n",
    "        project = row['MATRICULA_DIGITAL']\n",
    "        dependencies = [dep.strip() for dep in row['DEPENDENCIAS'].split(',')]\n",
    "        if dependencies == ['NA']:\n",
    "            dependencies = []\n",
    "        exclusions = [ex.strip() for ex in row['EXCLUYENTES'].split(',')]\n",
    "        if exclusions == ['NA']:\n",
    "            exclusions = []\n",
    "        \n",
    "        # Check if all dependencies are satisfied\n",
    "        if all(dep in selected_projects for dep in dependencies):\n",
    "            # Check if the project is not excluded by any selected project\n",
    "            excluded = False\n",
    "            for ex in exclusions:\n",
    "                if ex in selected_projects:\n",
    "                    excluded = True\n",
    "                    break\n",
    "            # If not excluded, add the project to available projects\n",
    "            if not excluded:\n",
    "                available_projects.append(project)\n",
    "        \n",
    "        # Add the project to selected projects and update exclusions\n",
    "        selected_projects.add(project)\n",
    "        exclusive_projects.update(exclusions)\n",
    "        \n",
    "        # Randomize the order of exclusions for the next iteration\n",
    "        exclusive_projects_list = list(exclusive_projects)\n",
    "        random.shuffle(exclusive_projects_list)\n",
    "        exclusive_projects = set(exclusive_projects_list)\n",
    "    \n",
    "    return available_projects"
   ]
  },
  {
   "cell_type": "code",
   "execution_count": 19,
   "metadata": {},
   "outputs": [],
   "source": [
    "# Versión dos\n",
    "def select_projects_random(df):\n",
    "    # Convertimos el DataFrame en una lista de filas y la barajamos\n",
    "    rows = df.sample(frac=1).iterrows()\n",
    "\n",
    "    available_projects = []\n",
    "    selected_projects = set()\n",
    "    exclusive_projects = set()\n",
    "\n",
    "    for index, row in rows:\n",
    "        project = row['MATRICULA_DIGITAL']\n",
    "        dependencies = [dep.strip() for dep in row['DEPENDENCIAS'].split(',') if dep.strip()]\n",
    "        exclusions = [ex.strip() for ex in row['EXCLUYENTES'].split(',') if ex.strip()]\n",
    "\n",
    "        # Comprobamos si todas las dependencias están satisfechas\n",
    "        if all(dep in selected_projects for dep in dependencies):\n",
    "            # Comprobamos si el proyecto no está excluido por ningún proyecto seleccionado\n",
    "            if not any(ex in selected_projects for ex in exclusions):\n",
    "                available_projects.append(project)\n",
    "\n",
    "        # Agregamos el proyecto a los proyectos seleccionados y actualizamos las exclusiones\n",
    "        selected_projects.add(project)\n",
    "        exclusive_projects.update(exclusions)\n",
    "\n",
    "    return available_projects\n"
   ]
  },
  {
   "cell_type": "code",
   "execution_count": 20,
   "metadata": {},
   "outputs": [
    {
     "name": "stdout",
     "output_type": "stream",
     "text": [
      "Available projects to select: ['Proyecto B ETAPA 1', 'Proyecto B ETAPA 2', 'Proyecto A ETAPA 1']\n"
     ]
    }
   ],
   "source": [
    "proyectos_disponibles = select_projects_random(dataframe)\n",
    "print(\"Available projects to select:\", proyectos_disponibles)"
   ]
  }
 ],
 "metadata": {
  "kernelspec": {
   "display_name": "base",
   "language": "python",
   "name": "python3"
  },
  "language_info": {
   "codemirror_mode": {
    "name": "ipython",
    "version": 3
   },
   "file_extension": ".py",
   "mimetype": "text/x-python",
   "name": "python",
   "nbconvert_exporter": "python",
   "pygments_lexer": "ipython3",
   "version": "3.9.12"
  }
 },
 "nbformat": 4,
 "nbformat_minor": 2
}
