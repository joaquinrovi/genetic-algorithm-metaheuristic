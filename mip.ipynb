{
 "cells": [
  {
   "cell_type": "code",
   "execution_count": null,
   "metadata": {},
   "outputs": [],
   "source": [
    "# Verificar la dependencia de algunos proyectos\n",
    "\n",
    "# Definir las dependencias entre proyectos\n",
    "dependencias = {\n",
    "    'Proyecto 5': ['Proyecto 2'], # Acá el para que se ejecute el proyecto 5 es necesario que se ejecute el proyecto 2\n",
    "    'Proyecto 6': ['Proyecto 1', 'Proyecto 4'], # Acá el para que se ejecute el proyecto 6 es necesario que se ejecute el proyecto 1 y el 4\n",
    "}\n",
    "\n",
    "# Función para verificar si se pueden ejecutar todas las dependencias de un proyecto\n",
    "def verificar_dependencias_ejecutadas(proyecto_ejecutado, proyectos_ejecutados):\n",
    "    if proyecto_ejecutado in dependencias:\n",
    "        for dependencia in dependencias[proyecto_ejecutado]:\n",
    "            if dependencia not in proyectos_ejecutados:\n",
    "                return False\n",
    "    return True\n",
    "\n",
    "# Ejemplo de uso\n",
    "proyectos_ejecutados = ['Proyecto 2']  # Suponiendo que el proyecto 1 se ejecuta primero\n",
    "\n",
    "# Verificar si se puede ejecutar el proyecto 5\n",
    "proyecto_5 = 'Proyecto 5'\n",
    "if verificar_dependencias_ejecutadas(proyecto_5, proyectos_ejecutados):\n",
    "    print(f\"Se puede ejecutar {proyecto_5}\")\n",
    "else:\n",
    "    print(f\"No se puede ejecutar {proyecto_5} porque las dependencias no se han cumplido\")\n",
    "\n",
    "# Verificar si se puede ejecutar el proyecto 6\n",
    "proyecto_6 = 'Proyecto 6'\n",
    "if verificar_dependencias_ejecutadas(proyecto_6, proyectos_ejecutados):\n",
    "    print(f\"Se puede ejecutar {proyecto_6}\")\n",
    "else:\n",
    "    print(f\"No se puede ejecutar {proyecto_6} porque las dependencias no se han cumplido\")\n"
   ]
  },
  {
   "cell_type": "code",
   "execution_count": null,
   "metadata": {},
   "outputs": [],
   "source": [
    "dependencias = {\n",
    "    'Proyecto 5': ['Proyecto 2'],\n",
    "    'Proyecto 6': ['Proyecto 1', 'Proyecto 4'],\n",
    "}\n",
    "\n",
    "def verificar_dependencias_ejecutadas(proyecto_ejecutado, proyectos_ejecutados, dependencias):\n",
    "    if proyecto_ejecutado in dependencias:\n",
    "        dependencias_proyecto = dependencias[proyecto_ejecutado]\n",
    "        for dependencia in dependencias_proyecto:\n",
    "            if dependencia not in proyectos_ejecutados:\n",
    "                return False\n",
    "    return True\n",
    "\n",
    "def ejecutar_proyecto(proyecto, proyectos_ejecutados, dependencias):\n",
    "    if verificar_dependencias_ejecutadas(proyecto, proyectos_ejecutados, dependencias):\n",
    "        proyectos_ejecutados.append(proyecto)\n",
    "        print(f\"Se ejecutó {proyecto}\")\n",
    "    else:\n",
    "        print(f\"No se puede ejecutar {proyecto} porque las dependencias no se han cumplido\")\n",
    "\n",
    "# Ejemplo de uso\n",
    "proyectos_ejecutados = ['Proyecto 2']\n",
    "\n",
    "ejecutar_proyecto('Proyecto 5', proyectos_ejecutados, dependencias)\n",
    "ejecutar_proyecto('Proyecto 6', proyectos_ejecutados, dependencias)\n"
   ]
  },
  {
   "cell_type": "code",
   "execution_count": 11,
   "metadata": {},
   "outputs": [
    {
     "data": {
      "text/html": [
       "<div>\n",
       "<style scoped>\n",
       "    .dataframe tbody tr th:only-of-type {\n",
       "        vertical-align: middle;\n",
       "    }\n",
       "\n",
       "    .dataframe tbody tr th {\n",
       "        vertical-align: top;\n",
       "    }\n",
       "\n",
       "    .dataframe thead th {\n",
       "        text-align: right;\n",
       "    }\n",
       "</style>\n",
       "<table border=\"1\" class=\"dataframe\">\n",
       "  <thead>\n",
       "    <tr style=\"text-align: right;\">\n",
       "      <th></th>\n",
       "      <th>Proyecto</th>\n",
       "      <th>Dependencias</th>\n",
       "    </tr>\n",
       "  </thead>\n",
       "  <tbody>\n",
       "    <tr>\n",
       "      <th>0</th>\n",
       "      <td>Proyecto 1</td>\n",
       "      <td>None</td>\n",
       "    </tr>\n",
       "    <tr>\n",
       "      <th>1</th>\n",
       "      <td>Proyecto 2</td>\n",
       "      <td>None</td>\n",
       "    </tr>\n",
       "    <tr>\n",
       "      <th>2</th>\n",
       "      <td>Proyecto 3</td>\n",
       "      <td>Proyecto 1, Proyecto 2</td>\n",
       "    </tr>\n",
       "    <tr>\n",
       "      <th>3</th>\n",
       "      <td>Proyecto 4</td>\n",
       "      <td>None</td>\n",
       "    </tr>\n",
       "    <tr>\n",
       "      <th>4</th>\n",
       "      <td>Proyecto 5</td>\n",
       "      <td>Proyecto 3</td>\n",
       "    </tr>\n",
       "    <tr>\n",
       "      <th>5</th>\n",
       "      <td>Proyecto 6</td>\n",
       "      <td>Proyecto 2</td>\n",
       "    </tr>\n",
       "    <tr>\n",
       "      <th>6</th>\n",
       "      <td>Proyecto 7</td>\n",
       "      <td>Proyecto 4</td>\n",
       "    </tr>\n",
       "    <tr>\n",
       "      <th>7</th>\n",
       "      <td>Proyecto 8</td>\n",
       "      <td>None</td>\n",
       "    </tr>\n",
       "    <tr>\n",
       "      <th>8</th>\n",
       "      <td>Proyecto 9</td>\n",
       "      <td>None</td>\n",
       "    </tr>\n",
       "    <tr>\n",
       "      <th>9</th>\n",
       "      <td>Proyecto 10</td>\n",
       "      <td>Proyecto 8, Proyecto 9</td>\n",
       "    </tr>\n",
       "  </tbody>\n",
       "</table>\n",
       "</div>"
      ],
      "text/plain": [
       "      Proyecto            Dependencias\n",
       "0   Proyecto 1                    None\n",
       "1   Proyecto 2                    None\n",
       "2   Proyecto 3  Proyecto 1, Proyecto 2\n",
       "3   Proyecto 4                    None\n",
       "4   Proyecto 5              Proyecto 3\n",
       "5   Proyecto 6              Proyecto 2\n",
       "6   Proyecto 7              Proyecto 4\n",
       "7   Proyecto 8                    None\n",
       "8   Proyecto 9                    None\n",
       "9  Proyecto 10  Proyecto 8, Proyecto 9"
      ]
     },
     "execution_count": 11,
     "metadata": {},
     "output_type": "execute_result"
    }
   ],
   "source": [
    "import pandas as pd\n",
    "\n",
    "# Supongamos que tienes un DataFrame llamado 'df' que contiene información sobre los proyectos y sus dependencias.\n",
    "# Puedes generar este DataFrame de manera aleatoria con los datos necesarios.\n",
    "\n",
    "# Generar un DataFrame de ejemplo con proyectos aleatorios y sus dependencias\n",
    "data = {\n",
    "    'Proyecto': ['Proyecto ' + str(i) for i in range(1, 11)],  # Suponiendo 10 proyectos\n",
    "    'Dependencias': [None, None, 'Proyecto 1, Proyecto 2', None, 'Proyecto 3', 'Proyecto 2', 'Proyecto 4', None, None, 'Proyecto 8, Proyecto 9']\n",
    "}\n",
    "df = pd.DataFrame(data)\n",
    "\n",
    "df.head(10)"
   ]
  },
  {
   "cell_type": "code",
   "execution_count": 12,
   "metadata": {},
   "outputs": [],
   "source": [
    "def verificar_dependencias_ejecutadas(proyecto_ejecutado, proyectos_ejecutados, df):\n",
    "    dependencias_proyecto = df[df['Proyecto'] == proyecto_ejecutado]['Dependencias'].values[0]\n",
    "    if dependencias_proyecto is not None:\n",
    "        dependencias_proyecto = dependencias_proyecto.split(', ')\n",
    "        for dependencia in dependencias_proyecto:\n",
    "            if dependencia not in proyectos_ejecutados:\n",
    "                return False\n",
    "    return True\n",
    "\n",
    "def ejecutar_proyecto(proyecto, proyectos_ejecutados, df):\n",
    "    if verificar_dependencias_ejecutadas(proyecto, proyectos_ejecutados, df):\n",
    "        print(f\"Se ejecutó {proyecto}\")\n",
    "    else:\n",
    "        print(f\"No se puede ejecutar {proyecto} porque las dependencias no se han cumplido\")"
   ]
  },
  {
   "cell_type": "code",
   "execution_count": 14,
   "metadata": {},
   "outputs": [
    {
     "name": "stdout",
     "output_type": "stream",
     "text": [
      "No se puede ejecutar Proyecto 3 porque las dependencias no se han cumplido\n"
     ]
    },
    {
     "data": {
      "text/plain": [
       "\"\\nwhile True:\\n    proyectos_a_ejecutar = [proyecto for proyecto in df['Proyecto'] if proyecto not in proyectos_ejecutados]\\n    if not proyectos_a_ejecutar:  # Si no quedan proyectos por ejecutar, salir del bucle\\n        break\\n    for proyecto in proyectos_a_ejecutar:\\n        verificar_dependencias_ejecutadas(proyecto, proyectos_ejecutados, df)\\n\""
      ]
     },
     "execution_count": 14,
     "metadata": {},
     "output_type": "execute_result"
    }
   ],
   "source": [
    "# Ejemplo de uso\n",
    "proyectos_dependientes = ['Proyecto 1']\n",
    "proyecto_a_verificar = 'Proyecto 3'\n",
    "ejecutar_proyecto(proyecto_a_verificar, proyectos_dependientes, df)\n",
    "\n",
    "'''\n",
    "while True:\n",
    "    proyectos_a_ejecutar = [proyecto for proyecto in df['Proyecto'] if proyecto not in proyectos_ejecutados]\n",
    "    if not proyectos_a_ejecutar:  # Si no quedan proyectos por ejecutar, salir del bucle\n",
    "        break\n",
    "    for proyecto in proyectos_a_ejecutar:\n",
    "        verificar_dependencias_ejecutadas(proyecto, proyectos_ejecutados, df)\n",
    "'''"
   ]
  }
 ],
 "metadata": {
  "kernelspec": {
   "display_name": "base",
   "language": "python",
   "name": "python3"
  },
  "language_info": {
   "codemirror_mode": {
    "name": "ipython",
    "version": 3
   },
   "file_extension": ".py",
   "mimetype": "text/x-python",
   "name": "python",
   "nbconvert_exporter": "python",
   "pygments_lexer": "ipython3",
   "version": "3.9.12"
  }
 },
 "nbformat": 4,
 "nbformat_minor": 2
}
